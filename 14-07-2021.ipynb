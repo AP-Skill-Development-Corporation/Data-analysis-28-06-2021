{
 "cells": [
  {
   "cell_type": "markdown",
   "metadata": {},
   "source": [
    "### Boxplot\n",
    "\n",
    "* It gives a summary of numerical data through quartiles.\n",
    "* min\n",
    "* Inter Quartile Range(IQR)\n",
    "    * lower quartile(25%)\n",
    "    * Medium (50%)\n",
    "    * Upper quartile(75%)\n",
    "* max\n",
    "\n",
    "\n",
    "* plt.boxplot()\n"
   ]
  },
  {
   "cell_type": "code",
   "execution_count": 1,
   "metadata": {},
   "outputs": [],
   "source": [
    "import matplotlib.pyplot as plt"
   ]
  },
  {
   "cell_type": "code",
   "execution_count": 2,
   "metadata": {},
   "outputs": [],
   "source": [
    "import numpy as np"
   ]
  },
  {
   "cell_type": "code",
   "execution_count": 3,
   "metadata": {},
   "outputs": [
    {
     "data": {
      "text/plain": [
       "array([ 616, 6591, 6078, 9542, 3520,  415, 8455, 4484,  470, 9909, 5053,\n",
       "       4308, 4895, 9294, 6939, 3870, 1736, 2184, 1491, 8856, 9701, 8437,\n",
       "       7714, 5031, 7305, 4115, 3677, 5194, 5889, 3925, 1957, 5814, 7959,\n",
       "       6705, 1380, 9341, 9087, 9061, 8841, 3059, 9553, 7423, 3124, 8968,\n",
       "        758, 9733, 9010,  565, 6107, 1145, 1299, 3193,  838, 6500, 3899,\n",
       "       9088, 3633, 5250, 6015,  786, 2540,  638, 4276, 4017, 2686, 9239,\n",
       "       5015, 4837, 4564, 9066, 1293, 2846, 7853,  839, 6139, 3949, 1146,\n",
       "       1942, 1022, 8120, 9422, 1397, 2025, 1673, 9771, 5397, 7892, 9151,\n",
       "       5199, 4871, 2809, 5607, 8626, 1718, 3347, 8675, 8997, 4011, 2031,\n",
       "       2678, 6589, 5142, 9745, 7016, 3628, 5026, 5190, 7240, 4300, 5379,\n",
       "       4351, 9112,  515, 3303, 6140, 5496, 9582, 7643, 2649, 3085, 6237,\n",
       "        769, 1442, 1981, 1985,  181, 2551, 8567, 1241, 5735, 3394, 9290,\n",
       "       2067, 4064, 5533, 9207, 9125, 2319, 3756, 4218, 9540, 6849,  808,\n",
       "       8545,  277, 8028, 4425,  770, 3216, 7133, 3755, 5088, 2388, 9624,\n",
       "       8157, 6745,  907, 1592, 4246, 7566, 9997, 3074, 5468, 8289, 7287,\n",
       "       7425, 3123, 2589, 1725, 9239, 5640, 4239, 4585,  354, 9656, 8787,\n",
       "       6740, 7399, 2604, 8026, 9437, 1658, 9027, 3804, 4051, 2747, 5280,\n",
       "       6229, 8056, 1654, 9259, 3057, 8501, 8941, 7246, 6858,  275, 4496,\n",
       "       1949, 2521, 3489, 9521, 3921, 4401, 7787, 5192, 6900, 6175, 3954,\n",
       "       2457, 1092, 7322, 7756, 4261, 1122, 3488, 6283, 4532, 4387, 1625,\n",
       "       2526, 6389, 2184, 2767, 7767, 9321,  513, 1218, 3636, 3867, 5534,\n",
       "       5588, 7004, 5798, 9592, 3325, 6839, 1233, 7893, 7864, 4128, 5099,\n",
       "       3301, 1646, 7512, 6798, 1116,  681, 9918, 5799, 5626, 7950, 9975,\n",
       "        377, 1025,  562, 6661, 9057, 2259, 9433, 4952, 3555, 9207, 8091,\n",
       "       7350,   82,  656, 2741, 7407, 8889, 5847, 3745, 7688,  964, 1642,\n",
       "       1435, 2117, 3732, 2823, 1171, 4241, 4703, 2858, 2731, 9731, 8544,\n",
       "       3328, 2861, 9028, 8767,  736, 3287,  270, 1905, 9631, 7375, 7513,\n",
       "       1304, 1533, 7105, 3489, 3459,  850, 4106, 6039, 7954, 2536, 4677,\n",
       "       2068, 6737, 9066, 8112, 9394, 2832, 1691,  480, 7094, 3635, 8254,\n",
       "       8446, 3211, 4142, 9376,  393, 9609, 8450, 8102, 3907, 5399, 3461,\n",
       "       2035, 6701, 6883, 1162, 3546, 5928, 9647, 7790, 9964, 1814, 3165,\n",
       "       9650, 4601, 6333, 9770, 6672, 5621, 4173, 3193, 4680, 7572, 9385,\n",
       "       6799, 7383, 4787, 2740, 6195,  767, 4875, 4083, 6429, 5677, 8989,\n",
       "       9904, 2988, 7699, 1622, 6898, 3654, 8504, 8395,  741, 6069, 1905,\n",
       "       7936, 8732,  135, 3548, 4419, 3411, 2791, 9153, 7487, 1252,  744,\n",
       "       7337, 2752, 6734, 8020, 8020, 9820, 4486, 5570, 8176, 8602, 7555,\n",
       "       2402, 7481, 3625, 6990, 5295, 2559, 8264, 3452,  483, 9410, 5900,\n",
       "       9927, 4675, 6990, 8529, 1330, 7733, 6335, 2404, 6056, 6708, 7271,\n",
       "       5153, 6448, 8744, 2042, 1121, 5819,  434, 6726, 6995,  455, 8171,\n",
       "       1509, 1646, 1864, 4685, 8571, 1079, 3384, 7852, 3520, 8826, 6790,\n",
       "        255, 9584, 7470, 3945, 2130, 4324, 7468, 5938, 7645, 9137, 1664,\n",
       "        786, 5767, 5948, 8353, 7410,  288, 2642, 2290, 2274, 2852, 3770,\n",
       "       6611, 4527, 5632, 5348, 9726,  590, 5447, 2385, 2114,  595, 1944,\n",
       "        185, 8737, 8125, 7977, 1221, 3660,   10, 9765, 2143, 5156, 9178,\n",
       "       7486, 3520, 5596, 6807, 7156, 3009, 4041,  478, 2357, 7305,  570,\n",
       "       2130, 1198, 9249, 7303, 5815, 7063, 4491, 8270, 5900, 7520, 9918,\n",
       "       8151, 3974, 7946, 6813, 2730, 4072, 9533, 5378, 3495, 3716, 6464,\n",
       "       9698, 1750, 2183,  344, 3822, 7485,  877,  346, 3215, 8159, 7348,\n",
       "       7347, 6714, 7832, 9725, 9092, 7977, 2710, 6039, 6328, 8938, 3994,\n",
       "       5512, 8315, 2032, 1005, 4493,  248, 7811, 5356, 1695, 7219, 1680,\n",
       "       7841, 4375, 3242, 5233, 1336, 5383, 9841, 5896, 9246, 3366, 6730,\n",
       "        846, 1853, 3324, 9552, 9565, 1244, 9084, 9115, 9220, 3097, 7080,\n",
       "        252, 3314, 1887, 8584, 9383, 8944,  824, 6295, 4826, 9037, 8605,\n",
       "        482, 9699, 9858, 2519, 5079, 2363, 3572, 8961, 8883, 4851,  798,\n",
       "       8290,  109, 2774, 7607, 1121, 4037, 3864, 5440, 3144, 9829, 5194,\n",
       "       7734, 4403, 3532, 7512, 3588, 7237, 5026, 5644,  762, 5305, 9932,\n",
       "       7224, 8377, 2272, 7610, 4754,  906, 8613, 7430, 7750, 5290,  654,\n",
       "       3139, 1897, 7394, 4385,  983, 8188, 8905, 1876, 1146, 3215, 7577,\n",
       "        300, 3534,  917, 4715, 3863, 6644, 9441, 1952, 1510, 3925, 3452,\n",
       "       9131, 9462, 4459, 7261, 1977, 7255, 2437,  439, 2051, 8620, 3037,\n",
       "       5785, 2905, 6388, 7336, 8696,  263, 7373, 5660, 8241,  404, 2574,\n",
       "       7291, 3262, 6262, 2989, 2100, 3462, 5816, 9418, 5573, 6294, 6310,\n",
       "       2355, 6278, 7520, 4090, 9316, 4804, 9521, 6868, 7049, 3897, 5602,\n",
       "       4841, 5576, 3591, 9340, 9279, 6312, 3615, 1882, 2179, 6504, 6446,\n",
       "        539, 6284, 1517, 1814, 1589, 7344, 3929, 3088, 4565, 6130, 5136,\n",
       "       2153, 8398, 4283, 9008, 7927, 7743, 9858, 8387, 3675, 8293, 4884,\n",
       "       4605, 2787, 4384, 8924, 2978, 8386, 4747, 6845, 5191, 2224, 8931,\n",
       "       5181, 9335, 3796, 4854, 3514,  283,  715, 5272, 4303, 4872,  326,\n",
       "       4953, 5008, 9946,  784,  255, 5351, 5944, 4304, 6064, 2264, 1329,\n",
       "       3952, 7226, 5608, 4317, 4958, 1107, 4258,  563, 8312, 9107, 3413,\n",
       "       3078, 9903, 7975, 6865, 1962, 6095, 9343,  585, 2555, 9293, 8855,\n",
       "       5618, 4308, 1736, 8731, 4810, 4205, 8803, 5851, 3807, 1798, 7358,\n",
       "       8406, 6366, 1206, 7722, 1548, 4470, 1035, 9114, 9799, 3110, 3999,\n",
       "       6975, 3961, 2947, 3342, 4053, 9657, 2179, 9142, 4602, 7290, 1273,\n",
       "       2336, 1050, 1767, 9525, 2119, 9741, 4440, 7100, 1942, 1152, 8171,\n",
       "       1973,  112, 7870, 2520, 8225, 2261, 7656, 3689, 8100, 5310, 5767,\n",
       "       1320, 8279, 6977, 3587, 5197, 8915, 1519, 2910, 8871, 7123, 3654,\n",
       "       1096, 2200, 3520, 6767, 9733, 2941, 5637, 9659, 9804, 6677, 9540,\n",
       "       8449, 4850, 2529, 5776, 8583, 6512, 5927, 1707, 7471, 9012, 8266,\n",
       "       7426, 3253, 5090, 5179, 7637,  917, 8921, 8058, 7807, 1090,  737,\n",
       "        836, 3968, 2286, 8640, 5707, 6209, 9991, 2027, 6340,  170, 6791,\n",
       "       3790, 4486, 5009, 4771, 1901, 5116, 2324, 3971, 3262, 4615, 9262,\n",
       "       3947,  267, 3212, 2069, 9308, 8452, 1535, 5586,  404, 3163, 8724,\n",
       "       8636, 6290, 1061, 8176, 5799, 5268, 5253, 8899, 2793, 6666, 1011,\n",
       "       6595, 9627, 1932, 4991, 4667, 2364, 7893, 4011, 3829, 2489, 1763,\n",
       "       3236,  183, 1861, 4172, 3959, 7014, 2844, 9399, 1613, 8254, 6371,\n",
       "       4688, 8376, 4733, 7692, 5736, 2963, 1691, 5539,  199, 9871, 3254,\n",
       "       8077, 1203, 2673, 4635, 7273, 7646, 8446, 6577, 4088, 2235, 3283,\n",
       "       7925, 1692, 6267, 1725, 5944, 6997, 8747, 8447, 4263, 8215, 2442,\n",
       "       4028, 4206, 3273, 6186, 8705, 6245, 8775, 7314,   31, 8979, 7439,\n",
       "       9339, 6902, 8539, 8612, 7800,  636, 2179, 2346, 2641, 5906])"
      ]
     },
     "execution_count": 3,
     "metadata": {},
     "output_type": "execute_result"
    }
   ],
   "source": [
    "numbers=np.random.randint(0,10000,1000)\n",
    "numbers"
   ]
  },
  {
   "cell_type": "code",
   "execution_count": 4,
   "metadata": {},
   "outputs": [
    {
     "data": {
      "text/plain": [
       "array([11, 12, 14, 16, 13])"
      ]
     },
     "execution_count": 4,
     "metadata": {},
     "output_type": "execute_result"
    }
   ],
   "source": [
    "a=np.random.randint(10,20,5)\n",
    "a"
   ]
  },
  {
   "cell_type": "code",
   "execution_count": 5,
   "metadata": {},
   "outputs": [
    {
     "data": {
      "text/plain": [
       "array([ 616, 6591, 6078, 9542, 3520,  415, 8455, 4484,  470, 9909, 5053,\n",
       "       4308, 4895, 9294, 6939, 3870, 1736, 2184, 1491, 8856, 9701, 8437,\n",
       "       7714, 5031, 7305, 4115, 3677, 5194, 5889, 3925, 1957, 5814, 7959,\n",
       "       6705, 1380, 9341, 9087, 9061, 8841, 3059, 9553, 7423, 3124, 8968,\n",
       "        758, 9733, 9010,  565, 6107, 1145, 1299, 3193,  838, 6500, 3899,\n",
       "       9088, 3633, 5250, 6015,  786, 2540,  638, 4276, 4017, 2686, 9239,\n",
       "       5015, 4837, 4564, 9066, 1293, 2846, 7853,  839, 6139, 3949, 1146,\n",
       "       1942, 1022, 8120, 9422, 1397, 2025, 1673, 9771, 5397, 7892, 9151,\n",
       "       5199, 4871, 2809, 5607, 8626, 1718, 3347, 8675, 8997, 4011, 2031,\n",
       "       2678, 6589, 5142, 9745, 7016, 3628, 5026, 5190, 7240, 4300, 5379,\n",
       "       4351, 9112,  515, 3303, 6140, 5496, 9582, 7643, 2649, 3085, 6237,\n",
       "        769, 1442, 1981, 1985,  181, 2551, 8567, 1241, 5735, 3394, 9290,\n",
       "       2067, 4064, 5533, 9207, 9125, 2319, 3756, 4218, 9540, 6849,  808,\n",
       "       8545,  277, 8028, 4425,  770, 3216, 7133, 3755, 5088, 2388, 9624,\n",
       "       8157, 6745,  907, 1592, 4246, 7566, 9997, 3074, 5468, 8289, 7287,\n",
       "       7425, 3123, 2589, 1725, 9239, 5640, 4239, 4585,  354, 9656, 8787,\n",
       "       6740, 7399, 2604, 8026, 9437, 1658, 9027, 3804, 4051, 2747, 5280,\n",
       "       6229, 8056, 1654, 9259, 3057, 8501, 8941, 7246, 6858,  275, 4496,\n",
       "       1949, 2521, 3489, 9521, 3921, 4401, 7787, 5192, 6900, 6175, 3954,\n",
       "       2457, 1092, 7322, 7756, 4261, 1122, 3488, 6283, 4532, 4387, 1625,\n",
       "       2526, 6389, 2184, 2767, 7767, 9321,  513, 1218, 3636, 3867, 5534,\n",
       "       5588, 7004, 5798, 9592, 3325, 6839, 1233, 7893, 7864, 4128, 5099,\n",
       "       3301, 1646, 7512, 6798, 1116,  681, 9918, 5799, 5626, 7950, 9975,\n",
       "        377, 1025,  562, 6661, 9057, 2259, 9433, 4952, 3555, 9207, 8091,\n",
       "       7350,   82,  656, 2741, 7407, 8889, 5847, 3745, 7688,  964, 1642,\n",
       "       1435, 2117, 3732, 2823, 1171, 4241, 4703, 2858, 2731, 9731, 8544,\n",
       "       3328, 2861, 9028, 8767,  736, 3287,  270, 1905, 9631, 7375, 7513,\n",
       "       1304, 1533, 7105, 3489, 3459,  850, 4106, 6039, 7954, 2536, 4677,\n",
       "       2068, 6737, 9066, 8112, 9394, 2832, 1691,  480, 7094, 3635, 8254,\n",
       "       8446, 3211, 4142, 9376,  393, 9609, 8450, 8102, 3907, 5399, 3461,\n",
       "       2035, 6701, 6883, 1162, 3546, 5928, 9647, 7790, 9964, 1814, 3165,\n",
       "       9650, 4601, 6333, 9770, 6672, 5621, 4173, 3193, 4680, 7572, 9385,\n",
       "       6799, 7383, 4787, 2740, 6195,  767, 4875, 4083, 6429, 5677, 8989,\n",
       "       9904, 2988, 7699, 1622, 6898, 3654, 8504, 8395,  741, 6069, 1905,\n",
       "       7936, 8732,  135, 3548, 4419, 3411, 2791, 9153, 7487, 1252,  744,\n",
       "       7337, 2752, 6734, 8020, 8020, 9820, 4486, 5570, 8176, 8602, 7555,\n",
       "       2402, 7481, 3625, 6990, 5295, 2559, 8264, 3452,  483, 9410, 5900,\n",
       "       9927, 4675, 6990, 8529, 1330, 7733, 6335, 2404, 6056, 6708, 7271,\n",
       "       5153, 6448, 8744, 2042, 1121, 5819,  434, 6726, 6995,  455, 8171,\n",
       "       1509, 1646, 1864, 4685, 8571, 1079, 3384, 7852, 3520, 8826, 6790,\n",
       "        255, 9584, 7470, 3945, 2130, 4324, 7468, 5938, 7645, 9137, 1664,\n",
       "        786, 5767, 5948, 8353, 7410,  288, 2642, 2290, 2274, 2852, 3770,\n",
       "       6611, 4527, 5632, 5348, 9726,  590, 5447, 2385, 2114,  595, 1944,\n",
       "        185, 8737, 8125, 7977, 1221, 3660,   10, 9765, 2143, 5156, 9178,\n",
       "       7486, 3520, 5596, 6807, 7156, 3009, 4041,  478, 2357, 7305,  570,\n",
       "       2130, 1198, 9249, 7303, 5815, 7063, 4491, 8270, 5900, 7520, 9918,\n",
       "       8151, 3974, 7946, 6813, 2730, 4072, 9533, 5378, 3495, 3716, 6464,\n",
       "       9698, 1750, 2183,  344, 3822, 7485,  877,  346, 3215, 8159, 7348,\n",
       "       7347, 6714, 7832, 9725, 9092, 7977, 2710, 6039, 6328, 8938, 3994,\n",
       "       5512, 8315, 2032, 1005, 4493,  248, 7811, 5356, 1695, 7219, 1680,\n",
       "       7841, 4375, 3242, 5233, 1336, 5383, 9841, 5896, 9246, 3366, 6730,\n",
       "        846, 1853, 3324, 9552, 9565, 1244, 9084, 9115, 9220, 3097, 7080,\n",
       "        252, 3314, 1887, 8584, 9383, 8944,  824, 6295, 4826, 9037, 8605,\n",
       "        482, 9699, 9858, 2519, 5079, 2363, 3572, 8961, 8883, 4851,  798,\n",
       "       8290,  109, 2774, 7607, 1121, 4037, 3864, 5440, 3144, 9829, 5194,\n",
       "       7734, 4403, 3532, 7512, 3588, 7237, 5026, 5644,  762, 5305, 9932,\n",
       "       7224, 8377, 2272, 7610, 4754,  906, 8613, 7430, 7750, 5290,  654,\n",
       "       3139, 1897, 7394, 4385,  983, 8188, 8905, 1876, 1146, 3215, 7577,\n",
       "        300, 3534,  917, 4715, 3863, 6644, 9441, 1952, 1510, 3925, 3452,\n",
       "       9131, 9462, 4459, 7261, 1977, 7255, 2437,  439, 2051, 8620, 3037,\n",
       "       5785, 2905, 6388, 7336, 8696,  263, 7373, 5660, 8241,  404, 2574,\n",
       "       7291, 3262, 6262, 2989, 2100, 3462, 5816, 9418, 5573, 6294, 6310,\n",
       "       2355, 6278, 7520, 4090, 9316, 4804, 9521, 6868, 7049, 3897, 5602,\n",
       "       4841, 5576, 3591, 9340, 9279, 6312, 3615, 1882, 2179, 6504, 6446,\n",
       "        539, 6284, 1517, 1814, 1589, 7344, 3929, 3088, 4565, 6130, 5136,\n",
       "       2153, 8398, 4283, 9008, 7927, 7743, 9858, 8387, 3675, 8293, 4884,\n",
       "       4605, 2787, 4384, 8924, 2978, 8386, 4747, 6845, 5191, 2224, 8931,\n",
       "       5181, 9335, 3796, 4854, 3514,  283,  715, 5272, 4303, 4872,  326,\n",
       "       4953, 5008, 9946,  784,  255, 5351, 5944, 4304, 6064, 2264, 1329,\n",
       "       3952, 7226, 5608, 4317, 4958, 1107, 4258,  563, 8312, 9107, 3413,\n",
       "       3078, 9903, 7975, 6865, 1962, 6095, 9343,  585, 2555, 9293, 8855,\n",
       "       5618, 4308, 1736, 8731, 4810, 4205, 8803, 5851, 3807, 1798, 7358,\n",
       "       8406, 6366, 1206, 7722, 1548, 4470, 1035, 9114, 9799, 3110, 3999,\n",
       "       6975, 3961, 2947, 3342, 4053, 9657, 2179, 9142, 4602, 7290, 1273,\n",
       "       2336, 1050, 1767, 9525, 2119, 9741, 4440, 7100, 1942, 1152, 8171,\n",
       "       1973,  112, 7870, 2520, 8225, 2261, 7656, 3689, 8100, 5310, 5767,\n",
       "       1320, 8279, 6977, 3587, 5197, 8915, 1519, 2910, 8871, 7123, 3654,\n",
       "       1096, 2200, 3520, 6767, 9733, 2941, 5637, 9659, 9804, 6677, 9540,\n",
       "       8449, 4850, 2529, 5776, 8583, 6512, 5927, 1707, 7471, 9012, 8266,\n",
       "       7426, 3253, 5090, 5179, 7637,  917, 8921, 8058, 7807, 1090,  737,\n",
       "        836, 3968, 2286, 8640, 5707, 6209, 9991, 2027, 6340,  170, 6791,\n",
       "       3790, 4486, 5009, 4771, 1901, 5116, 2324, 3971, 3262, 4615, 9262,\n",
       "       3947,  267, 3212, 2069, 9308, 8452, 1535, 5586,  404, 3163, 8724,\n",
       "       8636, 6290, 1061, 8176, 5799, 5268, 5253, 8899, 2793, 6666, 1011,\n",
       "       6595, 9627, 1932, 4991, 4667, 2364, 7893, 4011, 3829, 2489, 1763,\n",
       "       3236,  183, 1861, 4172, 3959, 7014, 2844, 9399, 1613, 8254, 6371,\n",
       "       4688, 8376, 4733, 7692, 5736, 2963, 1691, 5539,  199, 9871, 3254,\n",
       "       8077, 1203, 2673, 4635, 7273, 7646, 8446, 6577, 4088, 2235, 3283,\n",
       "       7925, 1692, 6267, 1725, 5944, 6997, 8747, 8447, 4263, 8215, 2442,\n",
       "       4028, 4206, 3273, 6186, 8705, 6245, 8775, 7314,   31, 8979, 7439,\n",
       "       9339, 6902, 8539, 8612, 7800,  636, 2179, 2346, 2641, 5906])"
      ]
     },
     "execution_count": 5,
     "metadata": {},
     "output_type": "execute_result"
    }
   ],
   "source": [
    "numbers"
   ]
  },
  {
   "cell_type": "code",
   "execution_count": 6,
   "metadata": {},
   "outputs": [
    {
     "data": {
      "text/plain": [
       "{'whiskers': [<matplotlib.lines.Line2D at 0x7ee1588>,\n",
       "  <matplotlib.lines.Line2D at 0x7ef9f88>],\n",
       " 'caps': [<matplotlib.lines.Line2D at 0x7efe808>,\n",
       "  <matplotlib.lines.Line2D at 0x7efee48>],\n",
       " 'boxes': [<matplotlib.lines.Line2D at 0x7ef9248>],\n",
       " 'medians': [<matplotlib.lines.Line2D at 0x7f0b4c8>],\n",
       " 'fliers': [<matplotlib.lines.Line2D at 0x7f0bcc8>],\n",
       " 'means': []}"
      ]
     },
     "execution_count": 6,
     "metadata": {},
     "output_type": "execute_result"
    },
    {
     "data": {
      "image/png": "[encoded data removed]",
      "text/plain": [
       "<Figure size 432x288 with 1 Axes>"
      ]
     },
     "metadata": {
      "needs_background": "light"
     },
     "output_type": "display_data"
    }
   ],
   "source": [
    "plt.boxplot(numbers)"
   ]
  },
  {
   "cell_type": "code",
   "execution_count": 7,
   "metadata": {},
   "outputs": [
    {
     "name": "stdout",
     "output_type": "stream",
     "text": [
      "Help on function boxplot in module matplotlib.pyplot:\n",
      "\n",
      "boxplot(x, notch=None, sym=None, vert=None, whis=None, positions=None, widths=None, patch_artist=None, bootstrap=None, usermedians=None, conf_intervals=None, meanline=None, showmeans=None, showcaps=None, showbox=None, showfliers=None, boxprops=None, labels=None, flierprops=None, medianprops=None, meanprops=None, capprops=None, whiskerprops=None, manage_ticks=True, autorange=False, zorder=None, *, data=None)\n",
      "    Make a box and whisker plot.\n",
      "    \n",
      "    Make a box and whisker plot for each column of ``x`` or each\n",
      "    vector in sequence ``x``.  The box extends from the lower to\n",
      "    upper quartile values of the data, with a line at the median.\n",
      "    The whiskers extend from the box to show the range of the\n",
      "    data.  Flier points are those past the end of the whiskers.\n",
      "    \n",
      "    Parameters\n",
      "    ----------\n",
      "    x : Array or a sequence of vectors.\n",
      "        The input data.\n",
      "    \n",
      "    notch : bool, optional (False)\n",
      "        If `True`, will produce a notched box plot. Otherwise, a\n",
      "        rectangular boxplot is produced. The notches represent the\n",
      "        confidence interval (CI) around the median. See the entry\n",
      "        for the ``bootstrap`` parameter for information regarding\n",
      "        how the locations of the notches are computed.\n",
      "    \n",
      "        .. note::\n",
      "    \n",
      "            In cases where the values of the CI are less than the\n",
      "            lower quartile or greater than the upper quartile, the\n",
      "            notches will extend beyond the box, giving it a\n",
      "            distinctive \"flipped\" appearance. This is expected\n",
      "            behavior and consistent with other statistical\n",
      "            visualization packages.\n",
      "    \n",
      "    sym : str, optional\n",
      "        The default symbol for flier points. Enter an empty string\n",
      "        ('') if you don't want to show fliers. If `None`, then the\n",
      "        fliers default to 'b+'  If you want more control use the\n",
      "        flierprops kwarg.\n",
      "    \n",
      "    vert : bool, optional (True)\n",
      "        If `True` (default), makes the boxes vertical. If `False`,\n",
      "        everything is drawn horizontally.\n",
      "    \n",
      "    whis : float, sequence, or string (default = 1.5)\n",
      "        As a float, determines the reach of the whiskers to the beyond the\n",
      "        first and third quartiles. In other words, where IQR is the\n",
      "        interquartile range (`Q3-Q1`), the upper whisker will extend to\n",
      "        last datum less than `Q3 + whis*IQR`). Similarly, the lower whisker\n",
      "        will extend to the first datum greater than `Q1 - whis*IQR`.\n",
      "        Beyond the whiskers, data\n",
      "        are considered outliers and are plotted as individual\n",
      "        points. Set this to an unreasonably high value to force the\n",
      "        whiskers to show the min and max values. Alternatively, set\n",
      "        this to an ascending sequence of percentile (e.g., [5, 95])\n",
      "        to set the whiskers at specific percentiles of the data.\n",
      "        Finally, ``whis`` can be the string ``'range'`` to force the\n",
      "        whiskers to the min and max of the data.\n",
      "    \n",
      "    bootstrap : int, optional\n",
      "        Specifies whether to bootstrap the confidence intervals\n",
      "        around the median for notched boxplots. If ``bootstrap`` is\n",
      "        None, no bootstrapping is performed, and notches are\n",
      "        calculated using a Gaussian-based asymptotic approximation\n",
      "        (see McGill, R., Tukey, J.W., and Larsen, W.A., 1978, and\n",
      "        Kendall and Stuart, 1967). Otherwise, bootstrap specifies\n",
      "        the number of times to bootstrap the median to determine its\n",
      "        95% confidence intervals. Values between 1000 and 10000 are\n",
      "        recommended.\n",
      "    \n",
      "    usermedians : array-like, optional\n",
      "        An array or sequence whose first dimension (or length) is\n",
      "        compatible with ``x``. This overrides the medians computed\n",
      "        by matplotlib for each element of ``usermedians`` that is not\n",
      "        `None`. When an element of ``usermedians`` is None, the median\n",
      "        will be computed by matplotlib as normal.\n",
      "    \n",
      "    conf_intervals : array-like, optional\n",
      "        Array or sequence whose first dimension (or length) is\n",
      "        compatible with ``x`` and whose second dimension is 2. When\n",
      "        the an element of ``conf_intervals`` is not None, the\n",
      "        notch locations computed by matplotlib are overridden\n",
      "        (provided ``notch`` is `True`). When an element of\n",
      "        ``conf_intervals`` is `None`, the notches are computed by the\n",
      "        method specified by the other kwargs (e.g., ``bootstrap``).\n",
      "    \n",
      "    positions : array-like, optional\n",
      "        Sets the positions of the boxes. The ticks and limits are\n",
      "        automatically set to match the positions. Defaults to\n",
      "        `range(1, N+1)` where N is the number of boxes to be drawn.\n",
      "    \n",
      "    widths : scalar or array-like\n",
      "        Sets the width of each box either with a scalar or a\n",
      "        sequence. The default is 0.5, or ``0.15*(distance between\n",
      "        extreme positions)``, if that is smaller.\n",
      "    \n",
      "    patch_artist : bool, optional (False)\n",
      "        If `False` produces boxes with the Line2D artist. Otherwise,\n",
      "        boxes and drawn with Patch artists.\n",
      "    \n",
      "    labels : sequence, optional\n",
      "        Labels for each dataset. Length must be compatible with\n",
      "        dimensions of ``x``.\n",
      "    \n",
      "    manage_ticks : bool, optional (True)\n",
      "        If True, the tick locations and labels will be adjusted to match\n",
      "        the boxplot positions.\n",
      "    \n",
      "    autorange : bool, optional (False)\n",
      "        When `True` and the data are distributed such that the 25th and\n",
      "        75th percentiles are equal, ``whis`` is set to ``'range'`` such\n",
      "        that the whisker ends are at the minimum and maximum of the data.\n",
      "    \n",
      "    meanline : bool, optional (False)\n",
      "        If `True` (and ``showmeans`` is `True`), will try to render\n",
      "        the mean as a line spanning the full width of the box\n",
      "        according to ``meanprops`` (see below). Not recommended if\n",
      "        ``shownotches`` is also True. Otherwise, means will be shown\n",
      "        as points.\n",
      "    \n",
      "    zorder : scalar, optional (None)\n",
      "        Sets the zorder of the boxplot.\n",
      "    \n",
      "    Other Parameters\n",
      "    ----------------\n",
      "    showcaps : bool, optional (True)\n",
      "        Show the caps on the ends of whiskers.\n",
      "    showbox : bool, optional (True)\n",
      "        Show the central box.\n",
      "    showfliers : bool, optional (True)\n",
      "        Show the outliers beyond the caps.\n",
      "    showmeans : bool, optional (False)\n",
      "        Show the arithmetic means.\n",
      "    capprops : dict, optional (None)\n",
      "        Specifies the style of the caps.\n",
      "    boxprops : dict, optional (None)\n",
      "        Specifies the style of the box.\n",
      "    whiskerprops : dict, optional (None)\n",
      "        Specifies the style of the whiskers.\n",
      "    flierprops : dict, optional (None)\n",
      "        Specifies the style of the fliers.\n",
      "    medianprops : dict, optional (None)\n",
      "        Specifies the style of the median.\n",
      "    meanprops : dict, optional (None)\n",
      "        Specifies the style of the mean.\n",
      "    \n",
      "    Returns\n",
      "    -------\n",
      "    result : dict\n",
      "      A dictionary mapping each component of the boxplot to a list\n",
      "      of the :class:`matplotlib.lines.Line2D` instances\n",
      "      created. That dictionary has the following keys (assuming\n",
      "      vertical boxplots):\n",
      "    \n",
      "      - ``boxes``: the main body of the boxplot showing the\n",
      "        quartiles and the median's confidence intervals if\n",
      "        enabled.\n",
      "    \n",
      "      - ``medians``: horizontal lines at the median of each box.\n",
      "    \n",
      "      - ``whiskers``: the vertical lines extending to the most\n",
      "        extreme, non-outlier data points.\n",
      "    \n",
      "      - ``caps``: the horizontal lines at the ends of the\n",
      "        whiskers.\n",
      "    \n",
      "      - ``fliers``: points representing data that extend beyond\n",
      "        the whiskers (fliers).\n",
      "    \n",
      "      - ``means``: points or lines representing the means.\n",
      "    \n",
      "    Notes\n",
      "    -----\n",
      "    \n",
      "    \n",
      "    .. note::\n",
      "        In addition to the above described arguments, this function can take a\n",
      "        **data** keyword argument. If such a **data** argument is given, the\n",
      "        following arguments are replaced by **data[<arg>]**:\n",
      "    \n",
      "        * All positional and all keyword arguments.\n",
      "    \n",
      "        Objects passed as **data** must support item access (``data[<arg>]``) and\n",
      "        membership test (``<arg> in data``).\n",
      "\n"
     ]
    }
   ],
   "source": [
    "help(plt.boxplot)"
   ]
  },
  {
   "cell_type": "markdown",
   "metadata": {},
   "source": [
    "### Notched Boxplot"
   ]
  },
  {
   "cell_type": "code",
   "execution_count": 8,
   "metadata": {},
   "outputs": [
    {
     "data": {
      "text/plain": [
       "{'whiskers': [<matplotlib.lines.Line2D at 0x7fae448>,\n",
       "  <matplotlib.lines.Line2D at 0x7faec08>],\n",
       " 'caps': [<matplotlib.lines.Line2D at 0x7faed08>,\n",
       "  <matplotlib.lines.Line2D at 0x7fb3b88>],\n",
       " 'boxes': [<matplotlib.lines.Line2D at 0x7fa9a08>],\n",
       " 'medians': [<matplotlib.lines.Line2D at 0x7fb3c88>],\n",
       " 'fliers': [<matplotlib.lines.Line2D at 0x7fb8b08>],\n",
       " 'means': []}"
      ]
     },
     "execution_count": 8,
     "metadata": {},
     "output_type": "execute_result"
    },
    {
     "data": {
      "image/png": "[encoded data removed]",
      "text/plain": [
       "<Figure size 432x288 with 1 Axes>"
      ]
     },
     "metadata": {
      "needs_background": "light"
     },
     "output_type": "display_data"
    }
   ],
   "source": [
    "plt.boxplot(numbers,notch=True)  #Confidence Interval around the median"
   ]
  },
  {
   "cell_type": "code",
   "execution_count": 9,
   "metadata": {},
   "outputs": [
    {
     "data": {
      "text/plain": [
       "{'whiskers': [<matplotlib.lines.Line2D at 0x8019f08>,\n",
       "  <matplotlib.lines.Line2D at 0x801c8c8>],\n",
       " 'caps': [<matplotlib.lines.Line2D at 0x801c9c8>,\n",
       "  <matplotlib.lines.Line2D at 0x8022988>],\n",
       " 'boxes': [<matplotlib.lines.Line2D at 0x8019648>],\n",
       " 'medians': [<matplotlib.lines.Line2D at 0x8022f48>],\n",
       " 'fliers': [<matplotlib.lines.Line2D at 0x8022fc8>],\n",
       " 'means': []}"
      ]
     },
     "execution_count": 9,
     "metadata": {},
     "output_type": "execute_result"
    },
    {
     "data": {
      "image/png": "[encoded data removed]",
      "text/plain": [
       "<Figure size 432x288 with 1 Axes>"
      ]
     },
     "metadata": {
      "needs_background": "light"
     },
     "output_type": "display_data"
    }
   ],
   "source": [
    "plt.boxplot(numbers,vert=False)   #Horizontal Boxplot"
   ]
  },
  {
   "cell_type": "code",
   "execution_count": 10,
   "metadata": {},
   "outputs": [
    {
     "data": {
      "text/plain": [
       "{'whiskers': [<matplotlib.lines.Line2D at 0x8087b08>,\n",
       "  <matplotlib.lines.Line2D at 0x8089508>],\n",
       " 'caps': [<matplotlib.lines.Line2D at 0x8089cc8>,\n",
       "  <matplotlib.lines.Line2D at 0x8089dc8>],\n",
       " 'boxes': [<matplotlib.patches.PathPatch at 0x8087548>],\n",
       " 'medians': [<matplotlib.lines.Line2D at 0x808ec48>],\n",
       " 'fliers': [<matplotlib.lines.Line2D at 0x808ed48>],\n",
       " 'means': []}"
      ]
     },
     "execution_count": 10,
     "metadata": {},
     "output_type": "execute_result"
    },
    {
     "data": {
      "image/png": "[encoded data removed]",
      "text/plain": [
       "<Figure size 432x288 with 1 Axes>"
      ]
     },
     "metadata": {
      "needs_background": "light"
     },
     "output_type": "display_data"
    }
   ],
   "source": [
    "plt.boxplot(numbers,patch_artist=True)"
   ]
  },
  {
   "cell_type": "code",
   "execution_count": 12,
   "metadata": {},
   "outputs": [
    {
     "data": {
      "text/plain": [
       "array([2732, 2587,  316, 4949, 1743, 2411, 2065, 3307,  348, 4029,  322,\n",
       "       1834,  229, 1968, 4589, 4606, 2806, 1044, 3405, 4617,  917, 4977,\n",
       "       1880,  499, 2063, 2198, 1524, 1836, 1137, 4885, 4570, 4405, 3460,\n",
       "       2910,  338, 1494, 4164,  263, 1944, 4574, 1399, 3646, 4428,  495,\n",
       "       2592, 1306, 4137, 4872, 3152, 2261])"
      ]
     },
     "execution_count": 12,
     "metadata": {},
     "output_type": "execute_result"
    }
   ],
   "source": [
    "product1_sales=np.random.randint(0,5000,50)\n",
    "product1_sales"
   ]
  },
  {
   "cell_type": "code",
   "execution_count": 14,
   "metadata": {},
   "outputs": [
    {
     "data": {
      "text/plain": [
       "array([5972, 5127, 6891, 5184, 1483,  839, 2689, 6426, 3097,  252, 4241,\n",
       "       4638, 6747, 2034, 4911, 5603, 5861, 2465, 1063, 1572, 6617,  859,\n",
       "       2982, 6123, 6588, 4832, 3555,  543, 1644, 6233, 5164, 6147,   84,\n",
       "        246, 2097, 4110, 4501, 1713, 5654, 6008, 1231, 4450, 2972, 3492,\n",
       "       2310, 6580, 2171, 5690, 3505, 4554, 6495, 4206, 1593, 4142, 5599,\n",
       "         50, 2247, 1852, 3123, 2562, 3584,  576, 1127, 4598, 4240, 6282,\n",
       "       4817, 3954,  757, 5781, 1871, 3318, 6682, 6388, 1323, 1773, 3817,\n",
       "        888,  177, 5860, 1247,  997, 3954,  683,  375, 4090, 4300, 4485,\n",
       "       2654,  418, 3301, 5624, 5891, 3623, 4137, 4218, 1398,  464, 3601,\n",
       "       3257])"
      ]
     },
     "execution_count": 14,
     "metadata": {},
     "output_type": "execute_result"
    }
   ],
   "source": [
    "product2_sales=np.random.randint(0,7000,100)\n",
    "product2_sales"
   ]
  },
  {
   "cell_type": "code",
   "execution_count": 15,
   "metadata": {},
   "outputs": [
    {
     "data": {
      "text/plain": [
       "array([2249, 1908, 3166, 1647, 1600, 1034, 2837, 2767, 1571, 1558, 1558,\n",
       "       2271, 2633, 3255, 1457, 2983, 3201, 2292, 3207, 2613, 1638, 1775,\n",
       "       3195, 3332, 2397, 1643, 1926, 3165, 2388, 3447, 1208, 3473, 2889,\n",
       "       2786, 1090, 3485, 1001, 1532, 2721, 1137, 1828, 3108, 2267, 2248,\n",
       "       2678, 1742, 3350, 3069, 2897, 2139, 3356, 1340, 2144, 2834, 3119,\n",
       "       2530, 2288, 2514, 1583, 2629, 3111, 2647, 1081, 1840, 3254, 3276,\n",
       "       1880, 2282, 2458, 2938, 2776, 3415, 2324, 2303, 1468, 2641, 2957,\n",
       "       3040, 2476, 2629, 1643, 2703, 1546, 1855, 2061, 1917, 3345, 1880,\n",
       "       1576, 3288, 2511, 2703, 3430, 2286, 1084, 2511, 3491, 2057, 3360,\n",
       "       3335, 1173, 2818, 2980, 3244, 3344, 2158, 3256, 2486, 1845, 3104,\n",
       "       1739, 2889, 2775, 1418, 1229, 1418, 1595, 1043, 1634, 1374, 3461,\n",
       "       3021, 1915, 3308, 1708, 1706, 1963, 2752, 1342, 1810, 2794, 3036,\n",
       "       3458, 1509, 3056, 1626, 2637, 2984, 3159, 2491, 2077, 1157, 1404,\n",
       "       1607, 2091, 2808, 1821, 1744, 3141, 2647, 3051, 3145, 3212, 3299,\n",
       "       3118, 1691, 1126, 1500, 1184, 2492, 1465, 1853, 2608, 1278, 2802,\n",
       "       2735, 2651, 2981, 2620, 2543, 2152, 2585, 3381, 2703, 1417, 3208,\n",
       "       2163, 1551, 2852, 1052, 3210, 1868, 3288, 3196, 2873, 1856, 1919,\n",
       "       3192, 2398, 2448, 1121, 3097, 3073, 2569, 1398, 2563, 1772, 3006,\n",
       "       1289, 3344, 2502, 1676, 1168, 2433, 1290, 1073, 1293, 2274, 2037,\n",
       "       1608, 3461, 2269, 2680, 2731, 2389, 3193, 2846, 3417, 2870, 2946,\n",
       "       1344, 1632, 2266, 2474, 2994, 1527, 1120, 1735, 2861, 1587, 1312,\n",
       "       3280, 3192, 3051, 2103, 1332, 3145, 1131, 1414, 2110, 2822, 3263,\n",
       "       2940, 3407, 1411, 1231, 2313, 1076, 2578, 2939, 2197, 1907, 1084,\n",
       "       2811, 2412, 3319, 3118, 3371, 2947, 1080, 2736, 2542, 1718, 2568,\n",
       "       3382, 2744, 1797, 3092, 3382, 3083, 2887, 1004, 1400, 1801, 2028,\n",
       "       3011, 1875, 3321, 2996, 2864, 1928, 2278, 2915, 2290, 1097, 2816,\n",
       "       2430, 3403, 2260, 2440, 2492, 1680, 2556, 3148, 3374, 2741, 1236,\n",
       "       2169, 1843, 2264, 1461, 1342, 1828, 2500, 2387, 1438, 3148, 1179,\n",
       "       2661, 2001, 3146, 2256, 1185, 2271, 1394, 2474, 1074, 1332, 2148,\n",
       "       2550, 2221, 2421, 3092, 1633, 1840, 2562, 1312, 2519, 3403, 1521,\n",
       "       1875, 2761, 2416, 3147, 2930, 1771, 2824, 1957, 2340, 1278, 1999,\n",
       "       1012, 1699, 2368, 2699, 3127, 3186, 1428, 1673, 1677, 1855, 1377,\n",
       "       3470, 2730, 1782, 3301, 1925, 1317, 1608, 2921, 3129, 3016, 1959,\n",
       "       1347, 2372, 1998, 1730, 2799, 2398, 1930, 3246, 3468, 1652, 2194,\n",
       "       1750, 3066, 2847, 2051, 1011, 1672, 1859, 1808, 3416, 2253, 1576,\n",
       "       1174, 1411, 3101, 3014, 2699, 2129, 3218, 2625, 2409, 2655, 1926,\n",
       "       2618, 3147, 3060, 3398, 1156, 1693, 2620, 3381, 2481, 2882, 3048,\n",
       "       2778, 2041, 1295, 1267, 2732, 3237, 3321, 3483, 3174, 3083, 2781,\n",
       "       1576, 1803, 2637, 3341, 2511, 2579, 1548, 2232, 1155, 3182, 3469,\n",
       "       2962, 2561, 3444, 3345, 1496, 2637, 2352, 3040, 3279, 2115, 1708,\n",
       "       2566, 1825, 2756, 2063, 2328, 1537, 2470, 2379, 1152, 1976, 2416,\n",
       "       2377, 2185, 1112, 2566, 2965, 1798, 2889, 2796, 2480, 1467, 2099,\n",
       "       2385, 1558, 1650, 1626, 1030, 2482, 1857, 2555, 2284, 1629, 2378,\n",
       "       2720, 1455, 3348, 3418, 3112, 2969, 3225, 2662, 2945, 2874, 2554,\n",
       "       2652, 2567, 2955, 3426, 1078, 2048, 2397, 3373, 3116, 1274, 2151,\n",
       "       2463, 2962, 2546, 2313, 1075])"
      ]
     },
     "execution_count": 15,
     "metadata": {},
     "output_type": "execute_result"
    }
   ],
   "source": [
    "product3_sales=np.random.randint(1000,3500,500)\n",
    "product3_sales"
   ]
  },
  {
   "cell_type": "code",
   "execution_count": 19,
   "metadata": {},
   "outputs": [
    {
     "data": {
      "text/plain": [
       "{'whiskers': [<matplotlib.lines.Line2D at 0x818db48>,\n",
       "  <matplotlib.lines.Line2D at 0x8190608>,\n",
       "  <matplotlib.lines.Line2D at 0x81a0248>,\n",
       "  <matplotlib.lines.Line2D at 0x819cd08>,\n",
       "  <matplotlib.lines.Line2D at 0x81aea88>,\n",
       "  <matplotlib.lines.Line2D at 0x81ae588>],\n",
       " 'caps': [<matplotlib.lines.Line2D at 0x8190dc8>,\n",
       "  <matplotlib.lines.Line2D at 0x8190ec8>,\n",
       "  <matplotlib.lines.Line2D at 0x81a0cc8>,\n",
       "  <matplotlib.lines.Line2D at 0x819c3c8>,\n",
       "  <matplotlib.lines.Line2D at 0x81b6cc8>,\n",
       "  <matplotlib.lines.Line2D at 0x81b6c48>],\n",
       " 'boxes': [<matplotlib.patches.PathPatch at 0x818d548>,\n",
       "  <matplotlib.patches.PathPatch at 0x819c508>,\n",
       "  <matplotlib.patches.PathPatch at 0x81a8d48>],\n",
       " 'medians': [<matplotlib.lines.Line2D at 0x8195d48>,\n",
       "  <matplotlib.lines.Line2D at 0x81a5dc8>,\n",
       "  <matplotlib.lines.Line2D at 0x81bae08>],\n",
       " 'fliers': [<matplotlib.lines.Line2D at 0x8195e48>,\n",
       "  <matplotlib.lines.Line2D at 0x81a8dc8>,\n",
       "  <matplotlib.lines.Line2D at 0x81baf08>],\n",
       " 'means': []}"
      ]
     },
     "execution_count": 19,
     "metadata": {},
     "output_type": "execute_result"
    },
    {
     "data": {
      "image/png": "[encoded data removed]",
      "text/plain": [
       "<Figure size 432x288 with 1 Axes>"
      ]
     },
     "metadata": {
      "needs_background": "light"
     },
     "output_type": "display_data"
    }
   ],
   "source": [
    "plt.boxplot([product1_sales,product2_sales,product3_sales],labels=['Maggi','Yeppi','Knoor'],\n",
    "           patch_artist=True,boxprops=dict(facecolor='pink',color='c'),vert=False)\n"
   ]
  },
  {
   "cell_type": "markdown",
   "metadata": {},
   "source": [
    "### Histogram\n",
    "\n",
    "* Similiar to Bar Chart\n",
    "* Frequency distribution of numerical data\n",
    "* plt.hist()\n"
   ]
  },
  {
   "cell_type": "code",
   "execution_count": 20,
   "metadata": {},
   "outputs": [
    {
     "data": {
      "text/plain": [
       "(array([4., 2., 3., 3.]),\n",
       " array([0.   , 1.375, 2.75 , 4.125, 5.5  ]),\n",
       " <a list of 4 Patch objects>)"
      ]
     },
     "execution_count": 20,
     "metadata": {},
     "output_type": "execute_result"
    },
    {
     "data": {
      "image/png": "[encoded data removed]",
      "text/plain": [
       "<Figure size 432x288 with 1 Axes>"
      ]
     },
     "metadata": {
      "needs_background": "light"
     },
     "output_type": "display_data"
    }
   ],
   "source": [
    "h=[0,0.5,0.5,0.6,1.5,1.6,3.6,3.7,3.8,5.5,5.1,5.2]\n",
    "\n",
    "bins=4\n",
    "\n",
    "plt.hist(h,bins,rwidth=0.4)"
   ]
  },
  {
   "cell_type": "code",
   "execution_count": 21,
   "metadata": {},
   "outputs": [
    {
     "data": {
      "text/plain": [
       "(array([3., 0., 3., 3., 1.]),\n",
       " array([10, 11, 12, 13, 14, 15]),\n",
       " <a list of 5 Patch objects>)"
      ]
     },
     "execution_count": 21,
     "metadata": {},
     "output_type": "execute_result"
    },
    {
     "data": {
      "image/png": "[encoded data removed]",
      "text/plain": [
       "<Figure size 432x288 with 1 Axes>"
      ]
     },
     "metadata": {
      "needs_background": "light"
     },
     "output_type": "display_data"
    }
   ],
   "source": [
    "h2=[10,10.2,10.5,12,12,12.3,13,13,13.5,15,15.1,15.5,15.6]\n",
    "bins2=[10,11,12,13,14,15]\n",
    "plt.hist(h2,bins2,rwidth=0.4)"
   ]
  },
  {
   "cell_type": "markdown",
   "metadata": {},
   "source": [
    "### Pie chart\n",
    "\n",
    "* plt.pie()"
   ]
  },
  {
   "cell_type": "code",
   "execution_count": 27,
   "metadata": {},
   "outputs": [
    {
     "data": {
      "image/png": "[encoded data removed]",
      "text/plain": [
       "<Figure size 432x288 with 1 Axes>"
      ]
     },
     "metadata": {},
     "output_type": "display_data"
    }
   ],
   "source": [
    "games=['Cricket','Chess','Ludo','football']\n",
    "score=[80,92,72,50]\n",
    "\n",
    "plt.pie(score,labels=games,autopct='%1.2f%%',colors=['c','b','m','pink'],\n",
    "        startangle=90,explode=(0,0.2,0,0),shadow=True)\n",
    "\n",
    "plt.savefig(\"PieChart.png\")"
   ]
  },
  {
   "cell_type": "code",
   "execution_count": null,
   "metadata": {},
   "outputs": [],
   "source": []
  }
 ],
 "metadata": {
  "kernelspec": {
   "display_name": "Python 3",
   "language": "python",
   "name": "python3"
  },
  "language_info": {
   "codemirror_mode": {
    "name": "ipython",
    "version": 3
   },
   "file_extension": ".py",
   "mimetype": "text/x-python",
   "name": "python",
   "nbconvert_exporter": "python",
   "pygments_lexer": "ipython3",
   "version": "3.7.6"
  }
 },
 "nbformat": 4,
 "nbformat_minor": 4
}
